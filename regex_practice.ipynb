{
  "nbformat": 4,
  "nbformat_minor": 0,
  "metadata": {
    "colab": {
      "provenance": [],
      "authorship_tag": "ABX9TyOxR8RIO/ZnSf/oAaHTAT3G",
      "include_colab_link": true
    },
    "kernelspec": {
      "name": "python3",
      "display_name": "Python 3"
    },
    "language_info": {
      "name": "python"
    }
  },
  "cells": [
    {
      "cell_type": "markdown",
      "metadata": {
        "id": "view-in-github",
        "colab_type": "text"
      },
      "source": [
        "<a href=\"https://colab.research.google.com/github/drpietech/sandbox/blob/main/regex_practice.ipynb\" target=\"_parent\"><img src=\"https://colab.research.google.com/assets/colab-badge.svg\" alt=\"Open In Colab\"/></a>"
      ]
    },
    {
      "cell_type": "code",
      "execution_count": 1,
      "metadata": {
        "colab": {
          "base_uri": "https://localhost:8080/"
        },
        "id": "mLvWN6LXvxwm",
        "outputId": "dca943a4-7ee5-40ee-cab2-2381bae07c28"
      },
      "outputs": [
        {
          "output_type": "stream",
          "name": "stdout",
          "text": [
            "['The', 'cat', 'and', 'the', 'hat', 'sat', 'the', 'mat']\n"
          ]
        }
      ],
      "source": [
        "import re\n",
        "text = \"The cat and the hat sat on the mat.\"\n",
        "pattern = r\"\\b\\w{3}\\b\"  # Matches three-letter words\n",
        "matches = re.findall(pattern, text)\n",
        "print(matches)  # Output: ['cat', 'and', 'the', 'hat', 'sat', 'the', 'mat']"
      ]
    }
  ]
}