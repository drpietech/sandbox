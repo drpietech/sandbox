{
  "nbformat": 4,
  "nbformat_minor": 0,
  "metadata": {
    "colab": {
      "provenance": [],
      "authorship_tag": "ABX9TyO14ICiD53+IQQ+IYG2tZFR",
      "include_colab_link": true
    },
    "kernelspec": {
      "name": "python3",
      "display_name": "Python 3"
    },
    "language_info": {
      "name": "python"
    }
  },
  "cells": [
    {
      "cell_type": "markdown",
      "metadata": {
        "id": "view-in-github",
        "colab_type": "text"
      },
      "source": [
        "<a href=\"https://colab.research.google.com/github/drpietech/sandbox/blob/main/learn_numpy.ipynb\" target=\"_parent\"><img src=\"https://colab.research.google.com/assets/colab-badge.svg\" alt=\"Open In Colab\"/></a>"
      ]
    },
    {
      "cell_type": "markdown",
      "source": [
        "1. Converting a List to an array\n",
        "2. Arange Function\n",
        "3. Multidimensional Array\n",
        "4. Size Function\n",
        "5. Shape Function\n",
        "6. Dtype Function\n",
        "7. Ndim Function\n",
        "8. Zeros and Ones Function\n",
        "9. Eye Function\n",
        "10. Empty Function\n",
        "11. Random Functions:\n",
        "-----a) np.random.rand\n",
        "-----b) np.random.randint\n",
        "-----c) np.random.randn\n",
        "12. Reshape function\n",
        "13. Linspace Function\n",
        "14. Flatten Function\n",
        "15. Logspace Function\n",
        "16. Copy Function\n",
        "17. arr.max() , arr.min() , arr.sum() functions\n",
        "18. Seed function\n",
        "19. Sorting in numpy array\n",
        "20. Mathematical Operation in Numpy\n",
        "-----a) Addition\n",
        "-----b) Substraction\n",
        "-----c) Multiplication\n",
        "-----d) Division\n",
        "-----e) Matrix Multiplication\n",
        "-----f) Power\n",
        "21. Percentile Function\n",
        "22. Mean, Variance and Standard Deviation\n",
        "23. Filtering an numpy array\n",
        "24. Transposing an array\n",
        "25. Where function\n",
        "26. Merging Arrays\n",
        "-----a) Using Concatenate\n",
        "-----b) Using vstack and hstack\n",
        "27. Splitting Arrays\n",
        "28. Turning Pictures into Numpy arrays"
      ],
      "metadata": {
        "id": "andfsIsY0tC1"
      }
    },
    {
      "cell_type": "code",
      "source": [
        "import numpy as np\n",
        "#1. Create a List to Array\n",
        "#2. arange function  np.arange(1,10)\n",
        "#3. multi dimensional array\n",
        "#4. size arr.size  np.size(arr,0)  gives rows  np.size(arr,1) gives columns\n",
        "#5 shape\n",
        "#6. arr.dtype   int64  float64\n",
        "#7 Ndim function  arr.ndim gives number of dimensions\n",
        "#8 zeros function. np.zeros(shape,dtype=None);  ones function   np.ones(shape,dtype=None)\n",
        "#9 Eye function.  Identity vector. np.eye(2, dtype=int)\n",
        "#10 Empty funciton. np.empty(shape=5,5)\n",
        "#11 Random functions. 3 types. np.rand   randomint   randn <--for random normal distrib\n",
        "#np.random.randn(100)\n",
        "import matplotlib.pyplot as plt\n",
        "%matplotlib inline\n",
        "plt.hist(np.random.randn(1000000),bins=1000) ;\n"
      ],
      "metadata": {
        "colab": {
          "base_uri": "https://localhost:8080/",
          "height": 430
        },
        "id": "fJyQ1aqP1ja4",
        "outputId": "cd83ebc5-16ce-458c-8071-1f80e0668ed2"
      },
      "execution_count": 19,
      "outputs": [
        {
          "output_type": "display_data",
          "data": {
            "text/plain": [
              "<Figure size 640x480 with 1 Axes>"
            ],
            "image/png": "[encoded data removed]"
          },
          "metadata": {}
        }
      ]
    }
  ]
}