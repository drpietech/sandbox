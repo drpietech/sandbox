{
  "nbformat": 4,
  "nbformat_minor": 0,
  "metadata": {
    "colab": {
      "provenance": [],
      "authorship_tag": "ABX9TyPlj0ab6Pq3VuAA3+1Vz1he",
      "include_colab_link": true
    },
    "kernelspec": {
      "name": "python3",
      "display_name": "Python 3"
    },
    "language_info": {
      "name": "python"
    }
  },
  "cells": [
    {
      "cell_type": "markdown",
      "metadata": {
        "id": "view-in-github",
        "colab_type": "text"
      },
      "source": [
        "<a href=\"https://colab.research.google.com/github/drpietech/sandbox/blob/main/glinerspacy_sample.ipynb\" target=\"_parent\"><img src=\"https://colab.research.google.com/assets/colab-badge.svg\" alt=\"Open In Colab\"/></a>"
      ]
    },
    {
      "cell_type": "markdown",
      "source": [
        "Below is provided by Marie Stephen Leo, a Datascientist at Sephora."
      ],
      "metadata": {
        "id": "JeTB8Ltvqjt4"
      }
    },
    {
      "cell_type": "code",
      "source": [
        "# pip install presidio_analyzer presidio_anonymizer gliner-spacy\n",
        "# python -m spacy download en_core_web_sm\n",
        "import spacy\n",
        "from gliner_spacy.pipeline import GlinerSpacy\n",
        "from presidio_analyzer import AnalyzerEngine\n",
        "from presidio_analyzer.nlp_engine import spacyNlpEngine\n",
        "from presidio_anonymizer import AnonymizerEngine\n",
        "from presidio_anonymizer.entities import OperatorConfig\n",
        "\n",
        "labels = [\"PERSON\",\"PHONE_NUMBER\",\"EMAIL_ADDRESS\",\"LOCATION\"]\n",
        "\n",
        "# Initialize the Anonymizer\n",
        "anonymizer = AnonymizerEngine()\n",
        "\n",
        "#Initialize the Analyzer\n",
        "## Load the Spacy Pipeline\n",
        "nlp = spacy.load(\"en__core_web_sm\")\n",
        "nlp.add_pipe(\"gliner_spacy\",config={\"gliner_model\",\"urchade/gliner_base\",\"labels\":labels})\n",
        "\n",
        "## Create an NLP engine with the Spacy Pipeline\n",
        "class LoadedSpacyNlpEngine(SpacyNlpEngine):\n",
        "  def __init__(self,loaded_spacy_model):\n",
        "    super().__init__()\n",
        "    self.nlp={\"en\":loaded_spacy_model}\n",
        "loaded_nlp_engine = LoadedSpacyNlpEngine(loaded_spacy_model=nlp)\n",
        "\n",
        "## Pass the engine to the Analyzer\n",
        "analyzer = AnalyzerEngine(nlp_engine=loaded_nlp_engine)\n",
        "\n",
        "def gliner_anonymize(text:str) -> str:\n",
        "  # Predict entities using GLiNER\n",
        "  analyzer_results = analyzer.analyze(\n",
        "      text=text,\n",
        "      entities=labels,\n",
        "      language=\"en\",\n",
        "  )\n",
        "  # Redact the identified PII data\n",
        "  pii_sanitized_text = anonymizer.anonymize(\n",
        "      text=text,\n",
        "      analyzer_results=analyzer_results,\n",
        "      operators={\n",
        "          \"PERSON\":OperatorConfig(\"replace\",{\"new_value\":\"REDACTED NAME]\"}),\n",
        "          \"PHONE_NUMBER\": OperatorConfig(\"replace\",{\"new_value\":\"REDACTED PHONE NUMBER]\"}),\n",
        "          \"EMAIL_ADDRESS\": OperatorConfig(\"replace\",{\"new_value\":\"REDACTED EMAIL]\"}),\n",
        "          \"LOCATION\": OperatorConfig(\"replace\",{\"new_value\":\"REDACTED PLACE]\"}),\n",
        "      },\n",
        "  )\n",
        "  return pii_sanitized_text.text\n",
        "\n",
        "print(gliner_anonymize(\"hello. my name is varun and i'm from chandigarh\"))\n"
      ],
      "metadata": {
        "id": "6Sq5hSXsqrcH"
      },
      "execution_count": null,
      "outputs": []
    }
  ]
}