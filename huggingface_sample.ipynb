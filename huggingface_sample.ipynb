{
  "nbformat": 4,
  "nbformat_minor": 0,
  "metadata": {
    "colab": {
      "provenance": [],
      "authorship_tag": "ABX9TyMDNj8TSjKlU3qRP+6QGKSF",
      "include_colab_link": true
    },
    "kernelspec": {
      "name": "python3",
      "display_name": "Python 3"
    },
    "language_info": {
      "name": "python"
    }
  },
  "cells": [
    {
      "cell_type": "markdown",
      "metadata": {
        "id": "view-in-github",
        "colab_type": "text"
      },
      "source": [
        "<a href=\"https://colab.research.google.com/github/drpietech/sandbox/blob/main/huggingface_sample.ipynb\" target=\"_parent\"><img src=\"https://colab.research.google.com/assets/colab-badge.svg\" alt=\"Open In Colab\"/></a>"
      ]
    },
    {
      "cell_type": "markdown",
      "source": [
        "Below is sample code for using Hugging Face Transformers library, which provides access to pre-trained models for various NLP tasks, including summarization."
      ],
      "metadata": {
        "id": "-jq7S5JYkdGd"
      }
    },
    {
      "cell_type": "code",
      "execution_count": null,
      "metadata": {
        "id": "ZxIhg7IukVKV"
      },
      "outputs": [],
      "source": [
        "##pip install transformers\n",
        "\n",
        "from transformers import pipeline\n",
        "\n",
        "# Load the summarization pipeline\n",
        "summarizer = pipeline(\"summarization\")\n",
        "\n",
        "# Input text to be summarized\n",
        "text_to_summarize = \"\"\"\n",
        "Your input text goes here. This can be a long piece of content that you want to summarize.\n",
        "\"\"\"\n",
        "\n",
        "# Generate the summary\n",
        "summary = summarizer(text_to_summarize, max_length=150, min_length=50, length_penalty=2.0, num_beams=4, early_stopping=True)\n",
        "\n",
        "# Print the summary\n",
        "print(summary[0]['summary_text'])\n",
        "\n",
        "\n"
      ]
    },
    {
      "cell_type": "markdown",
      "source": [
        "Below is sample to classify into predefined list of labels\n"
      ],
      "metadata": {
        "id": "7DnC3cL8l34F"
      }
    },
    {
      "cell_type": "code",
      "source": [
        "from transformers import pipeline\n",
        "\n",
        "# Define the list of labels/categories\n",
        "labels = [\"Politics\", \"Sports\", \"Technology\", \"Entertainment\"]\n",
        "\n",
        "# Load text classification pipeline with predefined labels\n",
        "classifier = pipeline(\"text-classification\", model=\"distilbert-base-uncased\", tokenizer=\"distilbert-base-uncased\", return_all_scores=True)\n",
        "\n",
        "# Example text to classify\n",
        "text = \"The latest iPhone release is highly anticipated.\"\n",
        "\n",
        "# Perform text classification\n",
        "classification_result = classifier(text)\n",
        "\n",
        "# Extract predicted label and associated scores\n",
        "predicted_label = labels[classification_result[0]['label']]\n",
        "scores = classification_result[0]['scores']\n",
        "\n",
        "# Print the predicted label and associated scores\n",
        "print(\"Predicted Label:\", predicted_label)\n",
        "print(\"Scores:\", scores)\n"
      ],
      "metadata": {
        "id": "hgX0MkyRl8y5"
      },
      "execution_count": null,
      "outputs": []
    }
  ]
}