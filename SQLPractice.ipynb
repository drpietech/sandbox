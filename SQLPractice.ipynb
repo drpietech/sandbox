{
  "nbformat": 4,
  "nbformat_minor": 0,
  "metadata": {
    "colab": {
      "provenance": [],
      "authorship_tag": "ABX9TyOHzBJzCwW5ScKoqWuRPhWU",
      "include_colab_link": true
    },
    "kernelspec": {
      "name": "python3",
      "display_name": "Python 3"
    },
    "language_info": {
      "name": "python"
    }
  },
  "cells": [
    {
      "cell_type": "markdown",
      "metadata": {
        "id": "view-in-github",
        "colab_type": "text"
      },
      "source": [
        "<a href=\"https://colab.research.google.com/github/drpietech/sandbox/blob/main/SQLPractice.ipynb\" target=\"_parent\"><img src=\"https://colab.research.google.com/assets/colab-badge.svg\" alt=\"Open In Colab\"/></a>"
      ]
    },
    {
      "cell_type": "markdown",
      "source": [
        "Practice SQL"
      ],
      "metadata": {
        "id": "dzmy7qrs6Doh"
      }
    },
    {
      "cell_type": "code",
      "source": [
        "# Import the sqlite3 library\n",
        "import sqlite3\n",
        "\n",
        "# Connect to an in-memory SQLite database\n",
        "conn = sqlite3.connect(':memory:')\n",
        "\n",
        "# Create a table named 'stocks' with columns (date, trans, symbol, qty, price)\n",
        "c = conn.cursor()\n",
        "c.execute('''\n",
        "    CREATE TABLE stocks (\n",
        "        date text,\n",
        "        trans text,\n",
        "        symbol text,\n",
        "        qty real,\n",
        "        price real\n",
        "    )\n",
        "''')\n",
        "\n",
        "# Insert data into the 'stocks' table\n",
        "c.execute(\"INSERT INTO stocks VALUES ('2006-01-05', 'BUY', 'ABC', 100, 35.14)\")\n",
        "conn.commit()\n",
        "\n",
        "# Execute a SQL SELECT statement to query the database\n",
        "c.execute(\"SELECT * FROM stocks WHERE trans='BUY'\")\n",
        "results = c.fetchall()\n",
        "print(results)\n"
      ],
      "metadata": {
        "colab": {
          "base_uri": "https://localhost:8080/"
        },
        "id": "cq3lb7M96G32",
        "outputId": "44aacf65-4bad-4d36-e1a4-15cf357a8056"
      },
      "execution_count": 9,
      "outputs": [
        {
          "output_type": "stream",
          "name": "stdout",
          "text": [
            "[('2006-01-05', 'BUY', 'ABC', 100.0, 35.14)]\n"
          ]
        }
      ]
    },
    {
      "cell_type": "markdown",
      "source": [
        "c.execute('''\n",
        "    CREATE TABLE total_trans (\n",
        "        order_id integer,\n",
        "        user_id integer,\n",
        "        product_id string,\n",
        "        spend float,\n",
        "        trans_date datetime\n",
        "    )\n",
        "''')\n",
        "c.execute(\"INSERT INTO total_trans VALUES (123,987,'Good Prod One',23.75,current_timestamp)\")"
      ],
      "metadata": {
        "id": "5-WhgkEAZkbj"
      }
    },
    {
      "cell_type": "code",
      "source": [
        "c.execute('''\n",
        "    DROP TABLE IF EXISTS total_trans\n",
        "''')\n",
        "c.execute('''\n",
        "    CREATE TABLE total_trans (\n",
        "      order_id integer,\n",
        "      user_id integer,\n",
        "      product_id string,\n",
        "      spend float,\n",
        "      trans_date datetime )\n",
        "''')\n",
        "c.execute(\"INSERT INTO total_trans VALUES (123,987,'Good Prod One',23.75,current_timestamp)\")\n",
        "conn.commit()\n",
        "c.execute(\"SELECT * FROM total_trans\")\n",
        "results=c.fetchall()\n",
        "print(results)"
      ],
      "metadata": {
        "colab": {
          "base_uri": "https://localhost:8080/"
        },
        "id": "DmUxTNlNX7t1",
        "outputId": "78505daa-ead5-4406-c272-0b2d7ce899cb"
      },
      "execution_count": 17,
      "outputs": [
        {
          "output_type": "stream",
          "name": "stdout",
          "text": [
            "[(123, 987, 'Good Prod One', 23.75, '2024-03-22 14:44:00')]\n"
          ]
        }
      ]
    },
    {
      "cell_type": "code",
      "source": [
        "c.execute(\"INSERT INTO total_trans VALUES (124,988,'Good Prod One',22.75,current_timestamp)\")\n",
        "conn.commit()\n",
        "c.execute(\"SELECT * FROM total_trans\")\n",
        "results=c.fetchall()\n",
        "print(results)"
      ],
      "metadata": {
        "id": "AluOgIuZrv0X",
        "outputId": "c580c527-c12d-4fd4-8abb-ae1ef7e29707",
        "colab": {
          "base_uri": "https://localhost:8080/"
        }
      },
      "execution_count": 18,
      "outputs": [
        {
          "output_type": "stream",
          "name": "stdout",
          "text": [
            "[(123, 987, 'Good Prod One', 23.75, '2024-03-22 14:44:00'), (124, 988, 'Good Prod One', 22.75, '2024-03-22 15:02:48')]\n"
          ]
        }
      ]
    }
  ]
}