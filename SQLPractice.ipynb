{
  "nbformat": 4,
  "nbformat_minor": 0,
  "metadata": {
    "colab": {
      "provenance": [],
      "authorship_tag": "ABX9TyOaIR+sKWmN42bMt/jjGYdC",
      "include_colab_link": true
    },
    "kernelspec": {
      "name": "python3",
      "display_name": "Python 3"
    },
    "language_info": {
      "name": "python"
    }
  },
  "cells": [
    {
      "cell_type": "markdown",
      "metadata": {
        "id": "view-in-github",
        "colab_type": "text"
      },
      "source": [
        "<a href=\"https://colab.research.google.com/github/drpietech/sandbox/blob/main/SQLPractice.ipynb\" target=\"_parent\"><img src=\"https://colab.research.google.com/assets/colab-badge.svg\" alt=\"Open In Colab\"/></a>"
      ]
    },
    {
      "cell_type": "markdown",
      "source": [
        "Practice SQL"
      ],
      "metadata": {
        "id": "dzmy7qrs6Doh"
      }
    },
    {
      "cell_type": "code",
      "source": [
        "# Import the sqlite3 library\n",
        "import sqlite3\n",
        "\n",
        "# Connect to an in-memory SQLite database\n",
        "conn = sqlite3.connect(':memory:')\n",
        "\n",
        "# Create a table named 'stocks' with columns (date, trans, symbol, qty, price)\n",
        "c = conn.cursor()\n",
        "c.execute('''\n",
        "    CREATE TABLE stocks (\n",
        "        date text,\n",
        "        trans text,\n",
        "        symbol text,\n",
        "        qty real,\n",
        "        price real\n",
        "    )\n",
        "''')\n",
        "\n",
        "# Insert data into the 'stocks' table\n",
        "c.execute(\"INSERT INTO stocks VALUES ('2006-01-05', 'BUY', 'ABC', 100, 35.14)\")\n",
        "conn.commit()\n",
        "\n",
        "# Execute a SQL SELECT statement to query the database\n",
        "c.execute(\"SELECT * FROM stocks WHERE trans='BUY'\")\n",
        "results = c.fetchall()\n",
        "print(results)\n"
      ],
      "metadata": {
        "colab": {
          "base_uri": "https://localhost:8080/"
        },
        "id": "cq3lb7M96G32",
        "outputId": "51678c2b-9581-468d-f226-bc6ad0b2037b"
      },
      "execution_count": 1,
      "outputs": [
        {
          "output_type": "stream",
          "name": "stdout",
          "text": [
            "[('2006-01-05', 'BUY', 'ABC', 100.0, 35.14)]\n"
          ]
        }
      ]
    }
  ]
}